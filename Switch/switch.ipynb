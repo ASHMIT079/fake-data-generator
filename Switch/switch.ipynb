{
 "cells": [
  {
   "cell_type": "code",
   "execution_count": 49,
   "metadata": {},
   "outputs": [],
   "source": [
    "import pandas as pd"
   ]
  },
  {
   "cell_type": "code",
   "execution_count": 50,
   "metadata": {},
   "outputs": [],
   "source": [
    "df=pd.read_csv('switch.csv')"
   ]
  },
  {
   "cell_type": "code",
   "execution_count": 51,
   "metadata": {},
   "outputs": [
    {
     "data": {
      "text/plain": [
       "(500000, 12)"
      ]
     },
     "execution_count": 51,
     "metadata": {},
     "output_type": "execute_result"
    }
   ],
   "source": [
    "df.shape"
   ]
  },
  {
   "cell_type": "code",
   "execution_count": 52,
   "metadata": {},
   "outputs": [
    {
     "data": {
      "text/html": [
       "<div>\n",
       "<style scoped>\n",
       "    .dataframe tbody tr th:only-of-type {\n",
       "        vertical-align: middle;\n",
       "    }\n",
       "\n",
       "    .dataframe tbody tr th {\n",
       "        vertical-align: top;\n",
       "    }\n",
       "\n",
       "    .dataframe thead th {\n",
       "        text-align: right;\n",
       "    }\n",
       "</style>\n",
       "<table border=\"1\" class=\"dataframe\">\n",
       "  <thead>\n",
       "    <tr style=\"text-align: right;\">\n",
       "      <th></th>\n",
       "      <th>DATE</th>\n",
       "      <th>AMOUNT</th>\n",
       "      <th>A</th>\n",
       "      <th>NPCI_CODE</th>\n",
       "      <th>RRN</th>\n",
       "      <th>B</th>\n",
       "      <th>PAYEE_VPA</th>\n",
       "      <th>C</th>\n",
       "      <th>PAYER_VPA</th>\n",
       "      <th>D</th>\n",
       "      <th>TXNID</th>\n",
       "      <th>MCC</th>\n",
       "    </tr>\n",
       "  </thead>\n",
       "  <tbody>\n",
       "    <tr>\n",
       "      <th>0</th>\n",
       "      <td>02-04-2024 00:00</td>\n",
       "      <td>954.79</td>\n",
       "      <td>U09</td>\n",
       "      <td>FAILURE</td>\n",
       "      <td>225353709978</td>\n",
       "      <td>1</td>\n",
       "      <td>Leopoldo.Denesik31@gmail</td>\n",
       "      <td>1</td>\n",
       "      <td>Herbert_Paucek81@gmail</td>\n",
       "      <td>0</td>\n",
       "      <td>d4618364-c93d-48b7-819f-da8846a6c59f</td>\n",
       "      <td>cfcb12cae6a4bfafedd171be</td>\n",
       "    </tr>\n",
       "    <tr>\n",
       "      <th>1</th>\n",
       "      <td>02-04-2024 00:00</td>\n",
       "      <td>296.17</td>\n",
       "      <td>U09</td>\n",
       "      <td>FAILURE</td>\n",
       "      <td>435121560629</td>\n",
       "      <td>1</td>\n",
       "      <td>Santino_Greenholt@yahoo</td>\n",
       "      <td>1</td>\n",
       "      <td>Jacey_Turcotte9@yahoo</td>\n",
       "      <td>0</td>\n",
       "      <td>e08c59b2-2c65-47a0-83f1-173d3a44b925</td>\n",
       "      <td>a3b9f7bc7da57bddd23acefb</td>\n",
       "    </tr>\n",
       "    <tr>\n",
       "      <th>2</th>\n",
       "      <td>02-04-2024 00:00</td>\n",
       "      <td>654.06</td>\n",
       "      <td>U09</td>\n",
       "      <td>FAILURE</td>\n",
       "      <td>228868418505</td>\n",
       "      <td>1</td>\n",
       "      <td>Mona55@yahoo</td>\n",
       "      <td>1</td>\n",
       "      <td>Piper90@hotmail</td>\n",
       "      <td>0</td>\n",
       "      <td>d10f195e-6b28-4cc8-a99c-3286d8c6d1da</td>\n",
       "      <td>d5ff24627f7e8db6bf0c07a3</td>\n",
       "    </tr>\n",
       "    <tr>\n",
       "      <th>3</th>\n",
       "      <td>02-04-2024 00:00</td>\n",
       "      <td>398.77</td>\n",
       "      <td>U09</td>\n",
       "      <td>SUCCESS</td>\n",
       "      <td>546150913527</td>\n",
       "      <td>1</td>\n",
       "      <td>Dulce38@gmail</td>\n",
       "      <td>1</td>\n",
       "      <td>Hosea5@gmail</td>\n",
       "      <td>0</td>\n",
       "      <td>adaf76fc-7477-4e60-9536-8ecffe0500d3</td>\n",
       "      <td>5dc2bf2ea1eccd09454fd547</td>\n",
       "    </tr>\n",
       "    <tr>\n",
       "      <th>4</th>\n",
       "      <td>02-04-2024 00:00</td>\n",
       "      <td>822.43</td>\n",
       "      <td>U09</td>\n",
       "      <td>SUCCESS</td>\n",
       "      <td>233324361005</td>\n",
       "      <td>1</td>\n",
       "      <td>Randy80@gmail</td>\n",
       "      <td>1</td>\n",
       "      <td>Hayden12@yahoo</td>\n",
       "      <td>0</td>\n",
       "      <td>f1758556-b0e0-4e8f-90e0-e8709ffb14b5</td>\n",
       "      <td>26a084fb4b489c3a65be0fa9</td>\n",
       "    </tr>\n",
       "  </tbody>\n",
       "</table>\n",
       "</div>"
      ],
      "text/plain": [
       "               DATE  AMOUNT    A NPCI_CODE           RRN  B  \\\n",
       "0  02-04-2024 00:00  954.79  U09   FAILURE  225353709978  1   \n",
       "1  02-04-2024 00:00  296.17  U09   FAILURE  435121560629  1   \n",
       "2  02-04-2024 00:00  654.06  U09   FAILURE  228868418505  1   \n",
       "3  02-04-2024 00:00  398.77  U09   SUCCESS  546150913527  1   \n",
       "4  02-04-2024 00:00  822.43  U09   SUCCESS  233324361005  1   \n",
       "\n",
       "                  PAYEE_VPA  C               PAYER_VPA  D  \\\n",
       "0  Leopoldo.Denesik31@gmail  1  Herbert_Paucek81@gmail  0   \n",
       "1   Santino_Greenholt@yahoo  1   Jacey_Turcotte9@yahoo  0   \n",
       "2              Mona55@yahoo  1         Piper90@hotmail  0   \n",
       "3             Dulce38@gmail  1            Hosea5@gmail  0   \n",
       "4             Randy80@gmail  1          Hayden12@yahoo  0   \n",
       "\n",
       "                                  TXNID                       MCC  \n",
       "0  d4618364-c93d-48b7-819f-da8846a6c59f  cfcb12cae6a4bfafedd171be  \n",
       "1  e08c59b2-2c65-47a0-83f1-173d3a44b925  a3b9f7bc7da57bddd23acefb  \n",
       "2  d10f195e-6b28-4cc8-a99c-3286d8c6d1da  d5ff24627f7e8db6bf0c07a3  \n",
       "3  adaf76fc-7477-4e60-9536-8ecffe0500d3  5dc2bf2ea1eccd09454fd547  \n",
       "4  f1758556-b0e0-4e8f-90e0-e8709ffb14b5  26a084fb4b489c3a65be0fa9  "
      ]
     },
     "execution_count": 52,
     "metadata": {},
     "output_type": "execute_result"
    }
   ],
   "source": [
    "df.head()"
   ]
  },
  {
   "cell_type": "code",
   "execution_count": null,
   "metadata": {},
   "outputs": [],
   "source": []
  }
 ],
 "metadata": {
  "kernelspec": {
   "display_name": "Python 3",
   "language": "python",
   "name": "python3"
  },
  "language_info": {
   "codemirror_mode": {
    "name": "ipython",
    "version": 3
   },
   "file_extension": ".py",
   "mimetype": "text/x-python",
   "name": "python",
   "nbconvert_exporter": "python",
   "pygments_lexer": "ipython3",
   "version": "3.9.7"
  }
 },
 "nbformat": 4,
 "nbformat_minor": 2
}
