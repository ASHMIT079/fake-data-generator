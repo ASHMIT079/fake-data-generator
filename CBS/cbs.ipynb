{
 "cells": [
  {
   "cell_type": "code",
   "execution_count": 17,
   "metadata": {},
   "outputs": [],
   "source": [
    "import pandas as pd"
   ]
  },
  {
   "cell_type": "code",
   "execution_count": 18,
   "metadata": {},
   "outputs": [],
   "source": [
    "df=pd.read_csv('cbs.csv')"
   ]
  },
  {
   "cell_type": "code",
   "execution_count": 19,
   "metadata": {},
   "outputs": [
    {
     "data": {
      "text/plain": [
       "(500000, 12)"
      ]
     },
     "execution_count": 19,
     "metadata": {},
     "output_type": "execute_result"
    }
   ],
   "source": [
    "df.shape"
   ]
  },
  {
   "cell_type": "code",
   "execution_count": 20,
   "metadata": {},
   "outputs": [
    {
     "data": {
      "text/html": [
       "<div>\n",
       "<style scoped>\n",
       "    .dataframe tbody tr th:only-of-type {\n",
       "        vertical-align: middle;\n",
       "    }\n",
       "\n",
       "    .dataframe tbody tr th {\n",
       "        vertical-align: top;\n",
       "    }\n",
       "\n",
       "    .dataframe thead th {\n",
       "        text-align: right;\n",
       "    }\n",
       "</style>\n",
       "<table border=\"1\" class=\"dataframe\">\n",
       "  <thead>\n",
       "    <tr style=\"text-align: right;\">\n",
       "      <th></th>\n",
       "      <th>A</th>\n",
       "      <th>DATE</th>\n",
       "      <th>AMOUNT</th>\n",
       "      <th>B</th>\n",
       "      <th>C</th>\n",
       "      <th>D</th>\n",
       "      <th>E</th>\n",
       "      <th>F</th>\n",
       "      <th>G</th>\n",
       "      <th>RRN</th>\n",
       "      <th>H</th>\n",
       "      <th>TXNID</th>\n",
       "    </tr>\n",
       "  </thead>\n",
       "  <tbody>\n",
       "    <tr>\n",
       "      <th>0</th>\n",
       "      <td>S75960940</td>\n",
       "      <td>03-04-2024</td>\n",
       "      <td>845.95</td>\n",
       "      <td>03-04-2024</td>\n",
       "      <td>NaN</td>\n",
       "      <td>2001</td>\n",
       "      <td>2650</td>\n",
       "      <td>20012207843065</td>\n",
       "      <td>27111001182650</td>\n",
       "      <td>617245275107</td>\n",
       "      <td>03-04-2024 01:38:36</td>\n",
       "      <td>f1ed5d01f92119e5fbc24bf8</td>\n",
       "    </tr>\n",
       "    <tr>\n",
       "      <th>1</th>\n",
       "      <td>S75960940</td>\n",
       "      <td>03-04-2024</td>\n",
       "      <td>9.26</td>\n",
       "      <td>03-04-2024</td>\n",
       "      <td>NaN</td>\n",
       "      <td>2001</td>\n",
       "      <td>2650</td>\n",
       "      <td>20012207843065</td>\n",
       "      <td>27111001182650</td>\n",
       "      <td>902965003636</td>\n",
       "      <td>03-04-2024 01:38:36</td>\n",
       "      <td>dd9fbec8caafe84238f5f7c1</td>\n",
       "    </tr>\n",
       "    <tr>\n",
       "      <th>2</th>\n",
       "      <td>S75960940</td>\n",
       "      <td>03-04-2024</td>\n",
       "      <td>982.55</td>\n",
       "      <td>03-04-2024</td>\n",
       "      <td>NaN</td>\n",
       "      <td>2001</td>\n",
       "      <td>2650</td>\n",
       "      <td>20012207843065</td>\n",
       "      <td>27111001182650</td>\n",
       "      <td>550987050735</td>\n",
       "      <td>03-04-2024 01:38:36</td>\n",
       "      <td>9b72faab5fe4ff0ff1fff288</td>\n",
       "    </tr>\n",
       "    <tr>\n",
       "      <th>3</th>\n",
       "      <td>S75960940</td>\n",
       "      <td>03-04-2024</td>\n",
       "      <td>584.97</td>\n",
       "      <td>03-04-2024</td>\n",
       "      <td>NaN</td>\n",
       "      <td>2001</td>\n",
       "      <td>2650</td>\n",
       "      <td>20012207843065</td>\n",
       "      <td>27111001182650</td>\n",
       "      <td>746297905706</td>\n",
       "      <td>03-04-2024 01:38:36</td>\n",
       "      <td>18eeecdffde49d846e820a4c</td>\n",
       "    </tr>\n",
       "    <tr>\n",
       "      <th>4</th>\n",
       "      <td>S75960940</td>\n",
       "      <td>03-04-2024</td>\n",
       "      <td>453.01</td>\n",
       "      <td>03-04-2024</td>\n",
       "      <td>NaN</td>\n",
       "      <td>2001</td>\n",
       "      <td>2650</td>\n",
       "      <td>20012207843065</td>\n",
       "      <td>27111001182650</td>\n",
       "      <td>101141409563</td>\n",
       "      <td>03-04-2024 01:38:36</td>\n",
       "      <td>be3574f209a893e0fabeffd8</td>\n",
       "    </tr>\n",
       "  </tbody>\n",
       "</table>\n",
       "</div>"
      ],
      "text/plain": [
       "           A        DATE  AMOUNT           B   C     D     E               F  \\\n",
       "0  S75960940  03-04-2024  845.95  03-04-2024 NaN  2001  2650  20012207843065   \n",
       "1  S75960940  03-04-2024    9.26  03-04-2024 NaN  2001  2650  20012207843065   \n",
       "2  S75960940  03-04-2024  982.55  03-04-2024 NaN  2001  2650  20012207843065   \n",
       "3  S75960940  03-04-2024  584.97  03-04-2024 NaN  2001  2650  20012207843065   \n",
       "4  S75960940  03-04-2024  453.01  03-04-2024 NaN  2001  2650  20012207843065   \n",
       "\n",
       "                G           RRN                    H                     TXNID  \n",
       "0  27111001182650  617245275107  03-04-2024 01:38:36  f1ed5d01f92119e5fbc24bf8  \n",
       "1  27111001182650  902965003636  03-04-2024 01:38:36  dd9fbec8caafe84238f5f7c1  \n",
       "2  27111001182650  550987050735  03-04-2024 01:38:36  9b72faab5fe4ff0ff1fff288  \n",
       "3  27111001182650  746297905706  03-04-2024 01:38:36  18eeecdffde49d846e820a4c  \n",
       "4  27111001182650  101141409563  03-04-2024 01:38:36  be3574f209a893e0fabeffd8  "
      ]
     },
     "execution_count": 20,
     "metadata": {},
     "output_type": "execute_result"
    }
   ],
   "source": [
    "df.head()"
   ]
  },
  {
   "cell_type": "code",
   "execution_count": null,
   "metadata": {},
   "outputs": [],
   "source": []
  }
 ],
 "metadata": {
  "kernelspec": {
   "display_name": "Python 3",
   "language": "python",
   "name": "python3"
  },
  "language_info": {
   "codemirror_mode": {
    "name": "ipython",
    "version": 3
   },
   "file_extension": ".py",
   "mimetype": "text/x-python",
   "name": "python",
   "nbconvert_exporter": "python",
   "pygments_lexer": "ipython3",
   "version": "3.9.7"
  }
 },
 "nbformat": 4,
 "nbformat_minor": 2
}
